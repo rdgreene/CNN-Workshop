{
  "nbformat": 4,
  "nbformat_minor": 0,
  "metadata": {
    "colab": {
      "name": "CNN Workshop.ipynb",
      "provenance": [],
      "include_colab_link": true
    },
    "kernelspec": {
      "name": "python3",
      "display_name": "Python 3"
    }
  },
  "cells": [
    {
      "cell_type": "markdown",
      "metadata": {
        "id": "view-in-github",
        "colab_type": "text"
      },
      "source": [
        "<a href=\"https://colab.research.google.com/github/rdgreene/CNN-Workshop/blob/master/CNN_Workshop.ipynb\" target=\"_parent\"><img src=\"https://colab.research.google.com/assets/colab-badge.svg\" alt=\"Open In Colab\"/></a>"
      ]
    },
    {
      "cell_type": "code",
      "metadata": {
        "id": "aUEuzwM98H3w",
        "colab_type": "code",
        "colab": {}
      },
      "source": [
        "%%capture\n",
        "\n",
        "import warnings\n",
        "warnings.filterwarnings(\"ignore\")\n",
        "\n",
        "import os\n",
        "import numpy as np\n",
        "from skimage import io, transform\n",
        "\n",
        "!git clone https://ronangreene@bitbucket.org/ronangreene/cats_vs_dogs.git # clone repository with cats and dogs images\n",
        "!unzip cats_vs_dogs/data.zip # unzip data in clones repo\n",
        "!rm -r cats_vs_dogs # remove zipped data\n",
        "\n",
        "\n",
        "\n",
        "# # get names of all cats and dogs images\n",
        "# cats = os.listdir('data/cats')\n",
        "# dogs = os.listdir('data/dogs')"
      ],
      "execution_count": 0,
      "outputs": []
    },
    {
      "cell_type": "code",
      "metadata": {
        "id": "GUP7MFyfTVyH",
        "colab_type": "code",
        "colab": {}
      },
      "source": [
        "train_dir = 'data/train'\n",
        "val_dir = 'data/val'\n",
        "test_dir = 'data/test'"
      ],
      "execution_count": 0,
      "outputs": []
    },
    {
      "cell_type": "code",
      "metadata": {
        "id": "7wp9ArfWCxJs",
        "colab_type": "code",
        "colab": {
          "base_uri": "https://localhost:8080/",
          "height": 51
        },
        "outputId": "e6b6bb76-2a77-4998-afcd-fb712244e859"
      },
      "source": [
        "%tensorflow_version 2.x\n",
        "import tensorflow.keras as keras\n",
        "from tensorflow.keras.preprocessing.image import ImageDataGenerator\n",
        "from tensorflow.keras import layers\n",
        "from tensorflow.keras import models\n",
        "from tensorflow.keras import optimizers\n",
        "\n",
        "keras.__version__"
      ],
      "execution_count": 3,
      "outputs": [
        {
          "output_type": "stream",
          "text": [
            "TensorFlow 2.x selected.\n"
          ],
          "name": "stdout"
        },
        {
          "output_type": "execute_result",
          "data": {
            "text/plain": [
              "'2.2.4-tf'"
            ]
          },
          "metadata": {
            "tags": []
          },
          "execution_count": 3
        }
      ]
    },
    {
      "cell_type": "code",
      "metadata": {
        "id": "22sscLmIfgyR",
        "colab_type": "code",
        "colab": {}
      },
      "source": [
        "target_size = 64"
      ],
      "execution_count": 0,
      "outputs": []
    },
    {
      "cell_type": "code",
      "metadata": {
        "id": "B2_8zIwNUNY-",
        "colab_type": "code",
        "colab": {
          "base_uri": "https://localhost:8080/",
          "height": 51
        },
        "outputId": "0928f480-693a-4b5b-b903-3b36186718bd"
      },
      "source": [
        "# All images will be rescaled by 1./255\n",
        "train_datagen = ImageDataGenerator(rescale=1./255)\n",
        "test_datagen = ImageDataGenerator(rescale=1./255)\n",
        "\n",
        "train_generator = train_datagen.flow_from_directory(\n",
        "    train_dir,\n",
        "    target_size=(target_size, target_size),\n",
        "    batch_size=32,\n",
        "    class_mode='binary'\n",
        "    )\n",
        "\n",
        "validation_generator = test_datagen.flow_from_directory(\n",
        "    val_dir,\n",
        "    target_size=(target_size, target_size),\n",
        "    batch_size=32,\n",
        "    class_mode='binary'\n",
        "    )"
      ],
      "execution_count": 109,
      "outputs": [
        {
          "output_type": "stream",
          "text": [
            "Found 1600 images belonging to 2 classes.\n",
            "Found 200 images belonging to 2 classes.\n"
          ],
          "name": "stdout"
        }
      ]
    },
    {
      "cell_type": "code",
      "metadata": {
        "id": "uwVfrFuJUMWq",
        "colab_type": "code",
        "colab": {
          "base_uri": "https://localhost:8080/",
          "height": 493
        },
        "outputId": "708df750-4a9d-4add-94fd-731ab392bddd"
      },
      "source": [
        "model = models.Sequential()\n",
        "model.add(layers.Conv2D(32, (3, 3), activation='relu', input_shape=(target_size, target_size, 3)))\n",
        "model.add(layers.MaxPooling2D((2, 2)))\n",
        "model.add(layers.Conv2D(32, (3, 3), activation='relu'))\n",
        "model.add(layers.MaxPooling2D((2, 2)))\n",
        "model.add(layers.Conv2D(64, (3, 3), activation='relu'))\n",
        "model.add(layers.MaxPooling2D((2, 2)))\n",
        "model.add(layers.Flatten())\n",
        "model.add(layers.Dense(128, activation='relu'))\n",
        "model.add(layers.Dropout(rate = 0.5))\n",
        "model.add(layers.Dense(1, activation='sigmoid'))\n",
        "\n",
        "model.compile(\n",
        "    loss='binary_crossentropy',\n",
        "    optimizer='adam',\n",
        "    metrics=['accuracy']\n",
        "    )\n",
        "\n",
        "model.summary()"
      ],
      "execution_count": 110,
      "outputs": [
        {
          "output_type": "stream",
          "text": [
            "Model: \"sequential_32\"\n",
            "_________________________________________________________________\n",
            "Layer (type)                 Output Shape              Param #   \n",
            "=================================================================\n",
            "conv2d_88 (Conv2D)           (None, 62, 62, 32)        896       \n",
            "_________________________________________________________________\n",
            "max_pooling2d_85 (MaxPooling (None, 31, 31, 32)        0         \n",
            "_________________________________________________________________\n",
            "conv2d_89 (Conv2D)           (None, 29, 29, 32)        9248      \n",
            "_________________________________________________________________\n",
            "max_pooling2d_86 (MaxPooling (None, 14, 14, 32)        0         \n",
            "_________________________________________________________________\n",
            "conv2d_90 (Conv2D)           (None, 12, 12, 64)        18496     \n",
            "_________________________________________________________________\n",
            "max_pooling2d_87 (MaxPooling (None, 6, 6, 64)          0         \n",
            "_________________________________________________________________\n",
            "flatten_26 (Flatten)         (None, 2304)              0         \n",
            "_________________________________________________________________\n",
            "dense_52 (Dense)             (None, 128)               295040    \n",
            "_________________________________________________________________\n",
            "dropout_4 (Dropout)          (None, 128)               0         \n",
            "_________________________________________________________________\n",
            "dense_53 (Dense)             (None, 1)                 129       \n",
            "=================================================================\n",
            "Total params: 323,809\n",
            "Trainable params: 323,809\n",
            "Non-trainable params: 0\n",
            "_________________________________________________________________\n"
          ],
          "name": "stdout"
        }
      ]
    },
    {
      "cell_type": "code",
      "metadata": {
        "id": "iJ_SlroPlTQp",
        "colab_type": "code",
        "colab": {}
      },
      "source": [
        "import time"
      ],
      "execution_count": 0,
      "outputs": []
    },
    {
      "cell_type": "code",
      "metadata": {
        "id": "0O_qGSVTUFr0",
        "colab_type": "code",
        "colab": {
          "base_uri": "https://localhost:8080/",
          "height": 255
        },
        "outputId": "d4ccae30-2380-45b7-f675-4f9d0a4f1754"
      },
      "source": [
        "tic = time.time()\n",
        "\n",
        "history = model.fit_generator(\n",
        "      train_generator,\n",
        "      epochs=20,\n",
        "      validation_data=validation_generator,\n",
        "  )\n",
        "\n",
        "toc = time.time()\n",
        "print((toc-tic)/60)"
      ],
      "execution_count": 0,
      "outputs": [
        {
          "output_type": "stream",
          "text": [
            "Epoch 1/20\n",
            "50/50 [==============================] - 16s 322ms/step - loss: 0.6934 - accuracy: 0.5275 - val_loss: 0.6781 - val_accuracy: 0.5600\n",
            "Epoch 2/20\n",
            "50/50 [==============================] - 15s 300ms/step - loss: 0.6721 - accuracy: 0.5775 - val_loss: 0.6719 - val_accuracy: 0.5700\n",
            "Epoch 3/20\n",
            "50/50 [==============================] - 15s 306ms/step - loss: 0.6415 - accuracy: 0.6231 - val_loss: 0.6209 - val_accuracy: 0.6650\n",
            "Epoch 4/20\n",
            "50/50 [==============================] - 15s 298ms/step - loss: 0.5935 - accuracy: 0.6787 - val_loss: 0.6139 - val_accuracy: 0.6650\n",
            "Epoch 5/20\n",
            "50/50 [==============================] - 15s 307ms/step - loss: 0.5650 - accuracy: 0.7038 - val_loss: 0.5716 - val_accuracy: 0.6850\n",
            "Epoch 6/20\n",
            "50/50 [==============================] - 15s 310ms/step - loss: 0.5185 - accuracy: 0.7425 - val_loss: 0.5111 - val_accuracy: 0.7200\n",
            "Epoch 7/20\n",
            "50/50 [==============================] - 15s 297ms/step - loss: 0.4916 - accuracy: 0.7644 - val_loss: 0.5023 - val_accuracy: 0.7200\n"
          ],
          "name": "stdout"
        }
      ]
    },
    {
      "cell_type": "code",
      "metadata": {
        "id": "KGdSFEuFkDEg",
        "colab_type": "code",
        "colab": {
          "base_uri": "https://localhost:8080/",
          "height": 547
        },
        "outputId": "948ea782-fd04-4b72-92f2-8e20ddec0eb5"
      },
      "source": [
        "import matplotlib.pyplot as plt\n",
        "\n",
        "plt.style.use('ggplot')\n",
        "\n",
        "train_accuracy = history.history['accuracy']\n",
        "val_accuracy = history.history['val_accuracy']\n",
        "\n",
        "epochs = range(len(train_accuracy))\n",
        "plt.figure(figsize=(6,8))\n",
        "plt.plot(epochs, acc, 'g', label='Training Accuracy')\n",
        "plt.plot(epochs, val_acc, 'g--', label='Validation Accuracy')\n",
        "plt.title('Training and validation accuracy')\n",
        "plt.legend()\n",
        "plt.show()"
      ],
      "execution_count": 108,
      "outputs": [
        {
          "output_type": "display_data",
          "data": {
            "image/png": "[encoded data removed]",
            "text/plain": [
              "<Figure size 432x288 with 1 Axes>"
            ]
          },
          "metadata": {
            "tags": []
          }
        },
        {
          "output_type": "display_data",
          "data": {
            "image/png": "[encoded data removed]",
            "text/plain": [
              "<Figure size 432x288 with 1 Axes>"
            ]
          },
          "metadata": {
            "tags": []
          }
        }
      ]
    },
    {
      "cell_type": "code",
      "metadata": {
        "id": "SGeurFdQpx91",
        "colab_type": "code",
        "colab": {}
      },
      "source": [
        "# adding droput and image augmentation\n",
        "\n",
        "model = models.Sequential()\n",
        "model.add(layers.Conv2D(32, (3, 3), activation='relu',\n",
        "                        input_shape=(target_size, target_size, 3)))\n",
        "model.add(layers.MaxPooling2D((2, 2)))\n",
        "model.add(layers.Conv2D(32, (3, 3), activation='relu'))\n",
        "model.add(layers.MaxPooling2D((2, 2)))\n",
        "model.add(layers.Conv2D(64, (3, 3), activation='relu'))\n",
        "model.add(layers.MaxPooling2D((2, 2)))\n",
        "model.add(layers.Flatten())\n",
        "model.add(layers.Dense(128, activation='relu'))\n",
        "model.add(layers.Dense(1, activation='sigmoid'))\n",
        "\n",
        "model.compile(\n",
        "    loss='binary_crossentropy',\n",
        "    optimizer=optimizers.RMSprop(lr=1e-4),\n",
        "    metrics=['acc']\n",
        "    )\n",
        "\n",
        "model.summary()"
      ],
      "execution_count": 0,
      "outputs": []
    },
    {
      "cell_type": "markdown",
      "metadata": {
        "id": "4qerwQQ6ROzj",
        "colab_type": "text"
      },
      "source": [
        "### DEV AREA"
      ]
    },
    {
      "cell_type": "code",
      "metadata": {
        "id": "ohlO0FE0E6kA",
        "colab_type": "code",
        "colab": {
          "base_uri": "https://localhost:8080/",
          "height": 34
        },
        "outputId": "2f6cce93-2f18-4dfb-d1db-af296919e6db"
      },
      "source": [
        "import time\n",
        "time.time()"
      ],
      "execution_count": 39,
      "outputs": [
        {
          "output_type": "execute_result",
          "data": {
            "text/plain": [
              "1572782293.2272391"
            ]
          },
          "metadata": {
            "tags": []
          },
          "execution_count": 39
        }
      ]
    },
    {
      "cell_type": "code",
      "metadata": {
        "id": "7ds6PM_iQcPo",
        "colab_type": "code",
        "colab": {
          "base_uri": "https://localhost:8080/",
          "height": 34
        },
        "outputId": "f4f6671a-8aa1-44ae-c816-0f8a361553aa"
      },
      "source": [
        "\n",
        "ls"
      ],
      "execution_count": 11,
      "outputs": [
        {
          "output_type": "stream",
          "text": [
            "cats_test  cats_train  cats_val  dogs_test  dogs_train\tdogs_val\n"
          ],
          "name": "stdout"
        }
      ]
    },
    {
      "cell_type": "code",
      "metadata": {
        "id": "B91Jm9nXEus2",
        "colab_type": "code",
        "colab": {}
      },
      "source": [
        "from skimage import io, transform\n",
        "import numpy as np\n",
        "import time\n",
        "\n",
        "tic = time.time()\n",
        "\n",
        "data = []\n",
        "test_data = []\n",
        "\n",
        "# get train and test data for cats\n",
        "# for i, file in enumerate(cats):\n",
        "#     try:\n",
        "#         myimage = io.imread('data/cats/' + file).astype(np.float32)/255\n",
        "#         myimage = transform.resize(myimage, (64, 64, 3))\n",
        "#         if i < 950:\n",
        "#           data.append((myimage, 1))\n",
        "#         else:\n",
        "#           test_data.append((myimage, 1))\n",
        "#     except:\n",
        "#         pass\n",
        "\n",
        "# get train and test data for dogs\n",
        "for i, file in enumerate(dogs):\n",
        "    try:\n",
        "        myimage = io.imread('data/dogs/' + file).astype(np.float32)/255\n",
        "        myimage = transform.resize(myimage, (64, 64, 3))\n",
        "        if i < 950:\n",
        "          data.append((myimage, 1))\n",
        "        else:\n",
        "          test_data.append((myimage, 1))\n",
        "    except:\n",
        "        pass\n",
        "\n",
        "print(time.time() - tic)\n",
        "\n"
      ],
      "execution_count": 0,
      "outputs": []
    },
    {
      "cell_type": "code",
      "metadata": {
        "id": "yq8gYkHEDpPf",
        "colab_type": "code",
        "colab": {}
      },
      "source": [
        "# build neural network\n",
        "\n",
        "from tensorflow.keras import layers\n",
        "from tensorflow.keras import models\n",
        "\n",
        "model = models.Sequential()\n",
        "model.add(layers.Conv2D(32, (3, 3), activation='relu', input_shape=(28, 28, 1)))\n",
        "model.add(layers.MaxPooling2D((2, 2)))\n",
        "model.add(layers.Conv2D(64, (3, 3), activation='relu'))\n",
        "model.add(layers.MaxPooling2D((2, 2)))\n",
        "model.add(layers.Conv2D(64, (3, 3), activation='relu'))"
      ],
      "execution_count": 0,
      "outputs": []
    }
  ]
}
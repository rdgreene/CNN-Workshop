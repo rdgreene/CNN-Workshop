{
  "nbformat": 4,
  "nbformat_minor": 0,
  "metadata": {
    "colab": {
      "name": "CNN Workshop.ipynb",
      "provenance": [],
      "include_colab_link": true
    },
    "kernelspec": {
      "name": "python3",
      "display_name": "Python 3"
    }
  },
  "cells": [
    {
      "cell_type": "markdown",
      "metadata": {
        "id": "view-in-github",
        "colab_type": "text"
      },
      "source": [
        "<a href=\"https://colab.research.google.com/github/rdgreene/CNN-Workshop/blob/master/CNN_Workshop.ipynb\" target=\"_parent\"><img src=\"https://colab.research.google.com/assets/colab-badge.svg\" alt=\"Open In Colab\"/></a>"
      ]
    },
    {
      "cell_type": "code",
      "metadata": {
        "id": "aUEuzwM98H3w",
        "colab_type": "code",
        "colab": {}
      },
      "source": [
        "#@title <--- Run this to download data and initialise your environment\n",
        "%%capture\n",
        "\n",
        "import warnings\n",
        "warnings.filterwarnings(\"ignore\")\n",
        "\n",
        "import os\n",
        "import numpy as np\n",
        "from skimage import io, transform\n",
        "import matplotlib.pyplot as plt\n",
        "plt.style.use('ggplot')\n",
        "\n",
        "# # cats vs dogs data prep\n",
        "# !git clone https://ronangreene@bitbucket.org/ronangreene/cats_vs_dogs.git # clone repository with cats and dogs images\n",
        "# !unzip cats_vs_dogs/data.zip # unzip data in clones repo\n",
        "# !rm -r cats_vs_dogs # remove zipped data\n",
        "\n",
        "# train_dir = 'data/train'\n",
        "# val_dir = 'data/val'\n",
        "# test_dir = 'data/test'\n",
        "\n",
        "# mnist data prep\n",
        "from keras.datasets import mnist\n",
        "from tensorflow.keras import backend as K\n",
        "from tensorflow.keras.utils import to_categorical\n",
        "\n",
        "(X, y), _ = mnist.load_data()\n",
        "if K.image_data_format() == 'channels_first':\n",
        "    X = X.reshape(X.shape[0], 1, target_size, target_size)\n",
        "    input_shape = (1, 28, 28)\n",
        "else:\n",
        "    X = X.reshape(X.shape[0], 28, 28, 1)\n",
        "    input_shape = (28, 28, 1)\n",
        "X = X.astype('float32')\n",
        "X /= 255\n",
        "\n",
        "# convert class vectors to binary class matrices\n",
        "y = to_categorical(y, 10)\n",
        "\n",
        "mnist_data = (X, y)"
      ],
      "execution_count": 0,
      "outputs": []
    },
    {
      "cell_type": "code",
      "metadata": {
        "id": "fm9MGNjyIoT7",
        "colab_type": "code",
        "colab": {
          "base_uri": "https://localhost:8080/",
          "height": 34
        },
        "outputId": "7e886508-c2a7-411b-d200-a47382586322"
      },
      "source": [
        "y.shape"
      ],
      "execution_count": 7,
      "outputs": [
        {
          "output_type": "execute_result",
          "data": {
            "text/plain": [
              "(60000, 10)"
            ]
          },
          "metadata": {
            "tags": []
          },
          "execution_count": 7
        }
      ]
    },
    {
      "cell_type": "code",
      "metadata": {
        "id": "owm72WJTcIKt",
        "colab_type": "code",
        "colab": {}
      },
      "source": [
        "# from tensorflow.keras.datasets import mnist\n",
        "# train_mnist = mnist.load_data()[train]\n",
        "# test_mnist = mnist.load_data()[test]"
      ],
      "execution_count": 0,
      "outputs": []
    },
    {
      "cell_type": "markdown",
      "metadata": {
        "id": "usWjgDWOUcck",
        "colab_type": "text"
      },
      "source": [
        "## Task 1: Cat vs Dog Classification\n",
        "For our first task, we have prepared a dataset containing labelled images of cats and dogs, and we will walk you through how to build an algorithm to differentiate between the two. A sample of these images is shown below."
      ]
    },
    {
      "cell_type": "markdown",
      "metadata": {
        "id": "Csx1fiP9DNYT",
        "colab_type": "text"
      },
      "source": [
        "### Intro to Keras\n",
        "Keras is a Python package for deep learning package that cuts through a lot of the nitty gritty of programming deep learning models. There are a few different ways to use keras, but we will be using it to make sequential models, where we add layers to the model one at a time. You can find all of the keras documentation [here](https://keras.io/). We start importanting the various Keras sub-packages that we need for todays workshop."
      ]
    },
    {
      "cell_type": "code",
      "metadata": {
        "id": "7wp9ArfWCxJs",
        "colab_type": "code",
        "outputId": "5badfe97-bbc4-41d5-e76a-01f1e5fdc916",
        "colab": {
          "base_uri": "https://localhost:8080/",
          "height": 34
        }
      },
      "source": [
        "# import required Keras sub-packages\n",
        "%tensorflow_version 2.x\n",
        "#import tensorflow.keras as keras\n",
        "from tensorflow.keras.preprocessing.image import ImageDataGenerator\n",
        "from tensorflow.keras import layers\n",
        "from tensorflow.keras import models\n",
        "from tensorflow.keras import optimizers"
      ],
      "execution_count": 9,
      "outputs": [
        {
          "output_type": "stream",
          "text": [
            "TensorFlow is already loaded. Please restart the runtime to change versions.\n"
          ],
          "name": "stdout"
        }
      ]
    },
    {
      "cell_type": "code",
      "metadata": {
        "id": "Iij59gaLKf0w",
        "colab_type": "code",
        "outputId": "efe273f8-082b-4163-abdf-e196e280b909",
        "colab": {
          "base_uri": "https://localhost:8080/",
          "height": 214
        }
      },
      "source": [
        "#@title A sample of our data! { vertical-output: true }\n",
        "for animal in ['cats', 'dogs']:\n",
        "  for i in ['2', '3', '8', '16']:\n",
        "    plt.figure()\n",
        "    plt.imshow(image.load_img(f'data/train/{animal}/{i}.jpg'))"
      ],
      "execution_count": 4,
      "outputs": [
        {
          "output_type": "error",
          "ename": "NameError",
          "evalue": "ignored",
          "traceback": [
            "\u001b[0;31m---------------------------------------------------------------------------\u001b[0m",
            "\u001b[0;31mNameError\u001b[0m                                 Traceback (most recent call last)",
            "\u001b[0;32m<ipython-input-4-7b9110ff2a25>\u001b[0m in \u001b[0;36m<module>\u001b[0;34m()\u001b[0m\n\u001b[1;32m      2\u001b[0m   \u001b[0;32mfor\u001b[0m \u001b[0mi\u001b[0m \u001b[0;32min\u001b[0m \u001b[0;34m[\u001b[0m\u001b[0;34m'2'\u001b[0m\u001b[0;34m,\u001b[0m \u001b[0;34m'3'\u001b[0m\u001b[0;34m,\u001b[0m \u001b[0;34m'8'\u001b[0m\u001b[0;34m,\u001b[0m \u001b[0;34m'16'\u001b[0m\u001b[0;34m]\u001b[0m\u001b[0;34m:\u001b[0m\u001b[0;34m\u001b[0m\u001b[0;34m\u001b[0m\u001b[0m\n\u001b[1;32m      3\u001b[0m     \u001b[0mplt\u001b[0m\u001b[0;34m.\u001b[0m\u001b[0mfigure\u001b[0m\u001b[0;34m(\u001b[0m\u001b[0;34m)\u001b[0m\u001b[0;34m\u001b[0m\u001b[0;34m\u001b[0m\u001b[0m\n\u001b[0;32m----> 4\u001b[0;31m     \u001b[0mplt\u001b[0m\u001b[0;34m.\u001b[0m\u001b[0mimshow\u001b[0m\u001b[0;34m(\u001b[0m\u001b[0mimage\u001b[0m\u001b[0;34m.\u001b[0m\u001b[0mload_img\u001b[0m\u001b[0;34m(\u001b[0m\u001b[0;34mf'data/train/{animal}/{i}.jpg'\u001b[0m\u001b[0;34m)\u001b[0m\u001b[0;34m)\u001b[0m\u001b[0;34m\u001b[0m\u001b[0;34m\u001b[0m\u001b[0m\n\u001b[0m",
            "\u001b[0;31mNameError\u001b[0m: name 'image' is not defined"
          ]
        },
        {
          "output_type": "display_data",
          "data": {
            "text/plain": [
              "<Figure size 432x288 with 0 Axes>"
            ]
          },
          "metadata": {
            "tags": []
          }
        }
      ]
    },
    {
      "cell_type": "markdown",
      "metadata": {
        "id": "LyBEk6_0U9gA",
        "colab_type": "text"
      },
      "source": [
        "### Defining the Model Architecture\n",
        "Once we've imported all the sub-packages we need, we can proceed to define a CNN model as a sequence of convolutional, maxpooling, and dense layers. Once this is done the model is compiled for use."
      ]
    },
    {
      "cell_type": "code",
      "metadata": {
        "id": "uwVfrFuJUMWq",
        "colab_type": "code",
        "outputId": "4837d1ac-8d0a-4b9c-8a57-2f6661739550",
        "colab": {
          "base_uri": "https://localhost:8080/",
          "height": 459
        }
      },
      "source": [
        "# this defines the input size of the images we will be feeding into our model\n",
        "target_size = 64\n",
        "\n",
        "# create an instance of a sequential model\n",
        "model = models.Sequential()\n",
        "\n",
        "# first block of convolutional layers\n",
        "model.add(layers.Conv2D(32, (3, 3), activation='relu', input_shape=(target_size, target_size, 3)))\n",
        "model.add(layers.MaxPooling2D((2, 2)))\n",
        "\n",
        "# second block of convolutional layers\n",
        "model.add(layers.Conv2D(32, (3, 3), activation='relu'))\n",
        "model.add(layers.MaxPooling2D((2, 2)))\n",
        "\n",
        "# third block of convolutional layers\n",
        "model.add(layers.Conv2D(64, (3, 3), activation='relu'))\n",
        "model.add(layers.MaxPooling2D((2, 2)))\n",
        "\n",
        "# final dense layer for classification\n",
        "model.add(layers.Flatten())\n",
        "model.add(layers.Dense(256, activation='relu'))\n",
        "model.add(layers.Dense(1, activation='sigmoid'))\n",
        "\n",
        "# compile model ready for use\n",
        "model.compile(\n",
        "    loss='binary_crossentropy', # determines how errors are measured\n",
        "    optimizer='adam', # determines gradient descent algorithm used\n",
        "    metrics=['accuracy'] # metric used to monitor model performance during training\n",
        "    )\n",
        "\n",
        "# print out a summary of the compiled model\n",
        "model.summary()"
      ],
      "execution_count": 5,
      "outputs": [
        {
          "output_type": "stream",
          "text": [
            "Model: \"sequential\"\n",
            "_________________________________________________________________\n",
            "Layer (type)                 Output Shape              Param #   \n",
            "=================================================================\n",
            "conv2d (Conv2D)              (None, 62, 62, 32)        896       \n",
            "_________________________________________________________________\n",
            "max_pooling2d (MaxPooling2D) (None, 31, 31, 32)        0         \n",
            "_________________________________________________________________\n",
            "conv2d_1 (Conv2D)            (None, 29, 29, 32)        9248      \n",
            "_________________________________________________________________\n",
            "max_pooling2d_1 (MaxPooling2 (None, 14, 14, 32)        0         \n",
            "_________________________________________________________________\n",
            "conv2d_2 (Conv2D)            (None, 12, 12, 64)        18496     \n",
            "_________________________________________________________________\n",
            "max_pooling2d_2 (MaxPooling2 (None, 6, 6, 64)          0         \n",
            "_________________________________________________________________\n",
            "flatten (Flatten)            (None, 2304)              0         \n",
            "_________________________________________________________________\n",
            "dense (Dense)                (None, 256)               590080    \n",
            "_________________________________________________________________\n",
            "dense_1 (Dense)              (None, 1)                 257       \n",
            "=================================================================\n",
            "Total params: 618,977\n",
            "Trainable params: 618,977\n",
            "Non-trainable params: 0\n",
            "_________________________________________________________________\n"
          ],
          "name": "stdout"
        }
      ]
    },
    {
      "cell_type": "markdown",
      "metadata": {
        "id": "9Gqy2w9d_uGG",
        "colab_type": "text"
      },
      "source": [
        "### Setting up our data feed\n",
        "\n",
        "Next we want to use Keras' ImageDataGenerator object to feeding image data into own CNN direct from the image directory. We set up flows from two seperate directories, one containing training images, and the other containing validation images. The training images are used for directly training the model, while that validation images are used to evaluate how well the trained model generalises to images it did not see during training!"
      ]
    },
    {
      "cell_type": "code",
      "metadata": {
        "id": "B2_8zIwNUNY-",
        "colab_type": "code",
        "outputId": "f89cb58d-f3d5-4359-b9d7-7330a33bda40",
        "colab": {
          "base_uri": "https://localhost:8080/",
          "height": 51
        }
      },
      "source": [
        "# create image generator instance\n",
        "train_datagen = ImageDataGenerator(rescale=1./255)\n",
        "test_datagen = ImageDataGenerator(rescale=1./255) # TODO: move\n",
        "\n",
        "# flow for training images\n",
        "train_generator = train_datagen.flow_from_directory(\n",
        "    train_dir,\n",
        "    target_size=(target_size, target_size),\n",
        "    batch_size=64,\n",
        "    class_mode='binary'\n",
        "    )\n",
        "\n",
        "# flow for validation images\n",
        "validation_generator = test_datagen.flow_from_directory(\n",
        "    val_dir,\n",
        "    target_size=(target_size, target_size),\n",
        "    batch_size=32,\n",
        "    class_mode='binary'\n",
        "    )"
      ],
      "execution_count": 7,
      "outputs": [
        {
          "output_type": "stream",
          "text": [
            "Found 3000 images belonging to 2 classes.\n",
            "Found 1000 images belonging to 2 classes.\n"
          ],
          "name": "stdout"
        }
      ]
    },
    {
      "cell_type": "markdown",
      "metadata": {
        "id": "2727IN8RE_ej",
        "colab_type": "text"
      },
      "source": [
        "### Training the model\n",
        "\n",
        "Once the model is compiled we can begin training the model. During this process the training images are fed through the model in batches, with the model predicting the class of each image in the batch. After processing a batch, the weights in the network are updated by backpropogating the prediction errors from that particular batch. This occurs for a total of 20 epochs, where one epoch is defined as a single pass over all the images in the training dataset. Throughout this whole process, the validation images are used to evaluate how well the model is doing at classifying images that it has not been exposed to during training. \n",
        "\n",
        "Note: It is usual to observe that the accuracy of the model when classifying validation images is less than that when classifying training images."
      ]
    },
    {
      "cell_type": "code",
      "metadata": {
        "colab_type": "code",
        "outputId": "3238ecc5-9135-4f9b-dc4c-80c63828f5cb",
        "id": "egmyHyZXXrO1",
        "colab": {
          "base_uri": "https://localhost:8080/",
          "height": 1000
        }
      },
      "source": [
        "# train the model and record the results in history\n",
        "history = model.fit_generator(\n",
        "      train_generator,\n",
        "      epochs=20,\n",
        "      validation_data=validation_generator,\n",
        "  )"
      ],
      "execution_count": 8,
      "outputs": [
        {
          "output_type": "stream",
          "text": [
            "Epoch 1/20\n",
            "46/47 [============================>.] - ETA: 0s - loss: 0.6866 - acc: 0.5436Epoch 1/20\n",
            "47/47 [==============================] - 25s 529ms/step - loss: 0.6861 - acc: 0.5453 - val_loss: 0.6683 - val_acc: 0.5950\n",
            "Epoch 2/20\n",
            "46/47 [============================>.] - ETA: 0s - loss: 0.6579 - acc: 0.6049Epoch 1/20\n",
            "47/47 [==============================] - 23s 489ms/step - loss: 0.6561 - acc: 0.6073 - val_loss: 0.6625 - val_acc: 0.6150\n",
            "Epoch 3/20\n",
            "46/47 [============================>.] - ETA: 0s - loss: 0.6084 - acc: 0.6669Epoch 1/20\n",
            "47/47 [==============================] - 23s 492ms/step - loss: 0.6071 - acc: 0.6670 - val_loss: 0.6283 - val_acc: 0.6590\n",
            "Epoch 4/20\n",
            "46/47 [============================>.] - ETA: 0s - loss: 0.5559 - acc: 0.7139Epoch 1/20\n",
            "47/47 [==============================] - 23s 492ms/step - loss: 0.5552 - acc: 0.7143 - val_loss: 0.5818 - val_acc: 0.6940\n",
            "Epoch 5/20\n",
            "46/47 [============================>.] - ETA: 0s - loss: 0.5018 - acc: 0.7524Epoch 1/20\n",
            "47/47 [==============================] - 23s 492ms/step - loss: 0.4996 - acc: 0.7543 - val_loss: 0.5850 - val_acc: 0.7020\n",
            "Epoch 6/20\n",
            "46/47 [============================>.] - ETA: 0s - loss: 0.4795 - acc: 0.7732Epoch 1/20\n",
            "47/47 [==============================] - 23s 499ms/step - loss: 0.4790 - acc: 0.7727 - val_loss: 0.5500 - val_acc: 0.7290\n",
            "Epoch 7/20\n",
            "46/47 [============================>.] - ETA: 0s - loss: 0.4046 - acc: 0.8134Epoch 1/20\n",
            "47/47 [==============================] - 23s 495ms/step - loss: 0.4043 - acc: 0.8143 - val_loss: 0.5353 - val_acc: 0.7600\n",
            "Epoch 8/20\n",
            "46/47 [============================>.] - ETA: 0s - loss: 0.3807 - acc: 0.8263Epoch 1/20\n",
            "47/47 [==============================] - 23s 493ms/step - loss: 0.3809 - acc: 0.8257 - val_loss: 0.5832 - val_acc: 0.7090\n",
            "Epoch 9/20\n",
            "46/47 [============================>.] - ETA: 0s - loss: 0.3464 - acc: 0.8508Epoch 1/20\n",
            "47/47 [==============================] - 23s 496ms/step - loss: 0.3453 - acc: 0.8517 - val_loss: 0.5652 - val_acc: 0.7560\n",
            "Epoch 10/20\n",
            "46/47 [============================>.] - ETA: 0s - loss: 0.2931 - acc: 0.8692Epoch 1/20\n",
            "47/47 [==============================] - 23s 495ms/step - loss: 0.2943 - acc: 0.8687 - val_loss: 0.5845 - val_acc: 0.7530\n",
            "Epoch 11/20\n",
            "46/47 [============================>.] - ETA: 0s - loss: 0.2494 - acc: 0.9009Epoch 1/20\n",
            "47/47 [==============================] - 23s 496ms/step - loss: 0.2503 - acc: 0.9007 - val_loss: 0.6014 - val_acc: 0.7570\n",
            "Epoch 12/20\n",
            "46/47 [============================>.] - ETA: 0s - loss: 0.2096 - acc: 0.9131Epoch 1/20\n",
            "47/47 [==============================] - 23s 496ms/step - loss: 0.2117 - acc: 0.9123 - val_loss: 0.5798 - val_acc: 0.7570\n",
            "Epoch 13/20\n",
            "46/47 [============================>.] - ETA: 0s - loss: 0.1767 - acc: 0.9332Epoch 1/20\n",
            "47/47 [==============================] - 23s 497ms/step - loss: 0.1758 - acc: 0.9337 - val_loss: 0.6168 - val_acc: 0.7700\n",
            "Epoch 14/20\n",
            "46/47 [============================>.] - ETA: 0s - loss: 0.1270 - acc: 0.9595Epoch 1/20\n",
            "47/47 [==============================] - 23s 496ms/step - loss: 0.1279 - acc: 0.9583 - val_loss: 0.6731 - val_acc: 0.7590\n",
            "Epoch 15/20\n",
            "46/47 [============================>.] - ETA: 0s - loss: 0.0907 - acc: 0.9748Epoch 1/20\n",
            "47/47 [==============================] - 23s 497ms/step - loss: 0.0912 - acc: 0.9747 - val_loss: 0.7145 - val_acc: 0.7600\n",
            "Epoch 16/20\n",
            "46/47 [============================>.] - ETA: 0s - loss: 0.0628 - acc: 0.9843Epoch 1/20\n",
            "47/47 [==============================] - 23s 494ms/step - loss: 0.0633 - acc: 0.9840 - val_loss: 0.8843 - val_acc: 0.7580\n",
            "Epoch 17/20\n",
            "46/47 [============================>.] - ETA: 0s - loss: 0.0447 - acc: 0.9898Epoch 1/20\n",
            "47/47 [==============================] - 23s 493ms/step - loss: 0.0450 - acc: 0.9897 - val_loss: 0.8695 - val_acc: 0.7540\n",
            "Epoch 18/20\n",
            "46/47 [============================>.] - ETA: 0s - loss: 0.0508 - acc: 0.9867Epoch 1/20\n",
            "47/47 [==============================] - 23s 494ms/step - loss: 0.0504 - acc: 0.9870 - val_loss: 0.8385 - val_acc: 0.7760\n",
            "Epoch 19/20\n",
            "46/47 [============================>.] - ETA: 0s - loss: 0.0296 - acc: 0.9949Epoch 1/20\n",
            "47/47 [==============================] - 23s 497ms/step - loss: 0.0294 - acc: 0.9950 - val_loss: 0.9754 - val_acc: 0.7510\n",
            "Epoch 20/20\n",
            "46/47 [============================>.] - ETA: 0s - loss: 0.0210 - acc: 0.9963Epoch 1/20\n",
            "47/47 [==============================] - 24s 500ms/step - loss: 0.0210 - acc: 0.9963 - val_loss: 0.9926 - val_acc: 0.7590\n"
          ],
          "name": "stdout"
        }
      ]
    },
    {
      "cell_type": "markdown",
      "metadata": {
        "id": "NQvZ_hBrQ4dW",
        "colab_type": "text"
      },
      "source": [
        "### Model evaluation\n",
        "\n",
        "Now that the model has finished training, we can look at the results. Here we examine the accuracy of the model in classifying both training and validation images, as measured at the end of each epoch. We should observe that while performance on the training data is very strong, performance on the validation data plateaus after a number of epochs. This is a common problem in the machine learning field referred to as \"overfitting\". Overfitting is a problem as it suggests that some features learned by the model to discriminate between cats and dogs do not generalise well to the wider population.\n",
        "\n",
        "Dealing with overfitting is beyond the scope of this workshop, however there are a number of established approaches for doing this. In the context of CNNs, \"dropout\" and image augmentation are generally the go-to choices. If you wish to expriement with these approaches, Keras provides easy functionality for appying both.\n",
        "\n",
        "In instances where training performance was not so strong, we might also want to experiment with the architecture of our model and various other parameters, as these can all have a substantial impact on performance. A good first step here is to increase the \"size\" of the model, which can be done by adding additional layers, or increasing the size of the layers themselves."
      ]
    },
    {
      "cell_type": "code",
      "metadata": {
        "id": "KGdSFEuFkDEg",
        "colab_type": "code",
        "outputId": "3d6bc288-a0b7-4def-94fb-2c78480fdbbd",
        "colab": {
          "base_uri": "https://localhost:8080/",
          "height": 408
        }
      },
      "source": [
        "# get accuracy metrics recorded during training process\n",
        "train_accuracy = history.history['acc']\n",
        "val_accuracy = history.history['val_acc']\n",
        "epochs = range(len(train_accuracy))\n",
        "\n",
        "# plot accuracy recorded on training and validation test set after each epoch\n",
        "plt.figure(figsize=(10,6))\n",
        "plt.plot(epochs, train_accuracy, 'g--', label='Training Accuracy')\n",
        "plt.plot(epochs, val_accuracy, 'r--', label='Validation Accuracy')\n",
        "plt.ylabel('Accuracy')\n",
        "plt.xlabel('Epochs')\n",
        "plt.title('Training and validation accuracy')\n",
        "plt.legend()\n",
        "plt.show()"
      ],
      "execution_count": 41,
      "outputs": [
        {
          "output_type": "display_data",
          "data": {
            "image/png": "[encoded data removed]",
            "text/plain": [
              "<Figure size 720x432 with 1 Axes>"
            ]
          },
          "metadata": {
            "tags": []
          }
        }
      ]
    },
    {
      "cell_type": "markdown",
      "metadata": {
        "id": "1HkhJzJC3qpj",
        "colab_type": "text"
      },
      "source": [
        "### Transfer Learning\n",
        "\n",
        "An alternative approach to deep learning on image datasets is to use a model pre-trained on another image dataset and retrain the final layers for the specific task at hand. This approach is commonly known as \"transfer learning\".\n",
        "\n",
        "Typically the pre-trained models used fro this have been previously trained on very large datasets, where the images are general enough that the feature identifying transformations learned by the lower layers can be of use for other image classification problems. This can be particularly beneficial when the dataset we have for a particular problem is small, which makes training good models from scratch is difficult.\n",
        "\n",
        "Keras comes packaged a number of pre-trained CNNs in its applications sub-package. Here we make use of the [MobileNet](https://arxiv.org/pdf/1704.04861.pdf) model, which was trained extensively on the ImageNet dataset (over 1 million labeled from 1000 different classes).\n",
        "\n",
        "The basic workflow here consists of creating an instance of the pre-trained model with the final dense layers removed. We then create a new model using this pre-trained model as a base, adding our own dense layers on top. When training the model, the weights in the pre-trained part of the model are frozen, and we only learn the weights in the new dense layers that we have added."
      ]
    },
    {
      "cell_type": "code",
      "metadata": {
        "id": "Bd7OPiteeBC_",
        "colab_type": "code",
        "colab": {
          "base_uri": "https://localhost:8080/",
          "height": 1000
        },
        "outputId": "abdf49ef-0f37-4821-ee60-553c817d9083"
      },
      "source": [
        "# import the pretrained MobileNet model from the Keras applications library\n",
        "from tensorflow.keras.applications import MobileNet\n",
        "\n",
        "# create an instance of the MobileNet model with the final dense layers removed\n",
        "mnet = MobileNet(weights='imagenet', include_top=False, input_shape=(64, 64, 3))\n",
        "\n",
        "# print out a summary of the compiled model\n",
        "mnet.summary()"
      ],
      "execution_count": 24,
      "outputs": [
        {
          "output_type": "stream",
          "text": [
            "Model: \"mobilenet_1.00_224\"\n",
            "_________________________________________________________________\n",
            "Layer (type)                 Output Shape              Param #   \n",
            "=================================================================\n",
            "input_2 (InputLayer)         [(None, 64, 64, 3)]       0         \n",
            "_________________________________________________________________\n",
            "conv1_pad (ZeroPadding2D)    (None, 65, 65, 3)         0         \n",
            "_________________________________________________________________\n",
            "conv1 (Conv2D)               (None, 32, 32, 32)        864       \n",
            "_________________________________________________________________\n",
            "conv1_bn (BatchNormalization (None, 32, 32, 32)        128       \n",
            "_________________________________________________________________\n",
            "conv1_relu (ReLU)            (None, 32, 32, 32)        0         \n",
            "_________________________________________________________________\n",
            "conv_dw_1 (DepthwiseConv2D)  (None, 32, 32, 32)        288       \n",
            "_________________________________________________________________\n",
            "conv_dw_1_bn (BatchNormaliza (None, 32, 32, 32)        128       \n",
            "_________________________________________________________________\n",
            "conv_dw_1_relu (ReLU)        (None, 32, 32, 32)        0         \n",
            "_________________________________________________________________\n",
            "conv_pw_1 (Conv2D)           (None, 32, 32, 64)        2048      \n",
            "_________________________________________________________________\n",
            "conv_pw_1_bn (BatchNormaliza (None, 32, 32, 64)        256       \n",
            "_________________________________________________________________\n",
            "conv_pw_1_relu (ReLU)        (None, 32, 32, 64)        0         \n",
            "_________________________________________________________________\n",
            "conv_pad_2 (ZeroPadding2D)   (None, 33, 33, 64)        0         \n",
            "_________________________________________________________________\n",
            "conv_dw_2 (DepthwiseConv2D)  (None, 16, 16, 64)        576       \n",
            "_________________________________________________________________\n",
            "conv_dw_2_bn (BatchNormaliza (None, 16, 16, 64)        256       \n",
            "_________________________________________________________________\n",
            "conv_dw_2_relu (ReLU)        (None, 16, 16, 64)        0         \n",
            "_________________________________________________________________\n",
            "conv_pw_2 (Conv2D)           (None, 16, 16, 128)       8192      \n",
            "_________________________________________________________________\n",
            "conv_pw_2_bn (BatchNormaliza (None, 16, 16, 128)       512       \n",
            "_________________________________________________________________\n",
            "conv_pw_2_relu (ReLU)        (None, 16, 16, 128)       0         \n",
            "_________________________________________________________________\n",
            "conv_dw_3 (DepthwiseConv2D)  (None, 16, 16, 128)       1152      \n",
            "_________________________________________________________________\n",
            "conv_dw_3_bn (BatchNormaliza (None, 16, 16, 128)       512       \n",
            "_________________________________________________________________\n",
            "conv_dw_3_relu (ReLU)        (None, 16, 16, 128)       0         \n",
            "_________________________________________________________________\n",
            "conv_pw_3 (Conv2D)           (None, 16, 16, 128)       16384     \n",
            "_________________________________________________________________\n",
            "conv_pw_3_bn (BatchNormaliza (None, 16, 16, 128)       512       \n",
            "_________________________________________________________________\n",
            "conv_pw_3_relu (ReLU)        (None, 16, 16, 128)       0         \n",
            "_________________________________________________________________\n",
            "conv_pad_4 (ZeroPadding2D)   (None, 17, 17, 128)       0         \n",
            "_________________________________________________________________\n",
            "conv_dw_4 (DepthwiseConv2D)  (None, 8, 8, 128)         1152      \n",
            "_________________________________________________________________\n",
            "conv_dw_4_bn (BatchNormaliza (None, 8, 8, 128)         512       \n",
            "_________________________________________________________________\n",
            "conv_dw_4_relu (ReLU)        (None, 8, 8, 128)         0         \n",
            "_________________________________________________________________\n",
            "conv_pw_4 (Conv2D)           (None, 8, 8, 256)         32768     \n",
            "_________________________________________________________________\n",
            "conv_pw_4_bn (BatchNormaliza (None, 8, 8, 256)         1024      \n",
            "_________________________________________________________________\n",
            "conv_pw_4_relu (ReLU)        (None, 8, 8, 256)         0         \n",
            "_________________________________________________________________\n",
            "conv_dw_5 (DepthwiseConv2D)  (None, 8, 8, 256)         2304      \n",
            "_________________________________________________________________\n",
            "conv_dw_5_bn (BatchNormaliza (None, 8, 8, 256)         1024      \n",
            "_________________________________________________________________\n",
            "conv_dw_5_relu (ReLU)        (None, 8, 8, 256)         0         \n",
            "_________________________________________________________________\n",
            "conv_pw_5 (Conv2D)           (None, 8, 8, 256)         65536     \n",
            "_________________________________________________________________\n",
            "conv_pw_5_bn (BatchNormaliza (None, 8, 8, 256)         1024      \n",
            "_________________________________________________________________\n",
            "conv_pw_5_relu (ReLU)        (None, 8, 8, 256)         0         \n",
            "_________________________________________________________________\n",
            "conv_pad_6 (ZeroPadding2D)   (None, 9, 9, 256)         0         \n",
            "_________________________________________________________________\n",
            "conv_dw_6 (DepthwiseConv2D)  (None, 4, 4, 256)         2304      \n",
            "_________________________________________________________________\n",
            "conv_dw_6_bn (BatchNormaliza (None, 4, 4, 256)         1024      \n",
            "_________________________________________________________________\n",
            "conv_dw_6_relu (ReLU)        (None, 4, 4, 256)         0         \n",
            "_________________________________________________________________\n",
            "conv_pw_6 (Conv2D)           (None, 4, 4, 512)         131072    \n",
            "_________________________________________________________________\n",
            "conv_pw_6_bn (BatchNormaliza (None, 4, 4, 512)         2048      \n",
            "_________________________________________________________________\n",
            "conv_pw_6_relu (ReLU)        (None, 4, 4, 512)         0         \n",
            "_________________________________________________________________\n",
            "conv_dw_7 (DepthwiseConv2D)  (None, 4, 4, 512)         4608      \n",
            "_________________________________________________________________\n",
            "conv_dw_7_bn (BatchNormaliza (None, 4, 4, 512)         2048      \n",
            "_________________________________________________________________\n",
            "conv_dw_7_relu (ReLU)        (None, 4, 4, 512)         0         \n",
            "_________________________________________________________________\n",
            "conv_pw_7 (Conv2D)           (None, 4, 4, 512)         262144    \n",
            "_________________________________________________________________\n",
            "conv_pw_7_bn (BatchNormaliza (None, 4, 4, 512)         2048      \n",
            "_________________________________________________________________\n",
            "conv_pw_7_relu (ReLU)        (None, 4, 4, 512)         0         \n",
            "_________________________________________________________________\n",
            "conv_dw_8 (DepthwiseConv2D)  (None, 4, 4, 512)         4608      \n",
            "_________________________________________________________________\n",
            "conv_dw_8_bn (BatchNormaliza (None, 4, 4, 512)         2048      \n",
            "_________________________________________________________________\n",
            "conv_dw_8_relu (ReLU)        (None, 4, 4, 512)         0         \n",
            "_________________________________________________________________\n",
            "conv_pw_8 (Conv2D)           (None, 4, 4, 512)         262144    \n",
            "_________________________________________________________________\n",
            "conv_pw_8_bn (BatchNormaliza (None, 4, 4, 512)         2048      \n",
            "_________________________________________________________________\n",
            "conv_pw_8_relu (ReLU)        (None, 4, 4, 512)         0         \n",
            "_________________________________________________________________\n",
            "conv_dw_9 (DepthwiseConv2D)  (None, 4, 4, 512)         4608      \n",
            "_________________________________________________________________\n",
            "conv_dw_9_bn (BatchNormaliza (None, 4, 4, 512)         2048      \n",
            "_________________________________________________________________\n",
            "conv_dw_9_relu (ReLU)        (None, 4, 4, 512)         0         \n",
            "_________________________________________________________________\n",
            "conv_pw_9 (Conv2D)           (None, 4, 4, 512)         262144    \n",
            "_________________________________________________________________\n",
            "conv_pw_9_bn (BatchNormaliza (None, 4, 4, 512)         2048      \n",
            "_________________________________________________________________\n",
            "conv_pw_9_relu (ReLU)        (None, 4, 4, 512)         0         \n",
            "_________________________________________________________________\n",
            "conv_dw_10 (DepthwiseConv2D) (None, 4, 4, 512)         4608      \n",
            "_________________________________________________________________\n",
            "conv_dw_10_bn (BatchNormaliz (None, 4, 4, 512)         2048      \n",
            "_________________________________________________________________\n",
            "conv_dw_10_relu (ReLU)       (None, 4, 4, 512)         0         \n",
            "_________________________________________________________________\n",
            "conv_pw_10 (Conv2D)          (None, 4, 4, 512)         262144    \n",
            "_________________________________________________________________\n",
            "conv_pw_10_bn (BatchNormaliz (None, 4, 4, 512)         2048      \n",
            "_________________________________________________________________\n",
            "conv_pw_10_relu (ReLU)       (None, 4, 4, 512)         0         \n",
            "_________________________________________________________________\n",
            "conv_dw_11 (DepthwiseConv2D) (None, 4, 4, 512)         4608      \n",
            "_________________________________________________________________\n",
            "conv_dw_11_bn (BatchNormaliz (None, 4, 4, 512)         2048      \n",
            "_________________________________________________________________\n",
            "conv_dw_11_relu (ReLU)       (None, 4, 4, 512)         0         \n",
            "_________________________________________________________________\n",
            "conv_pw_11 (Conv2D)          (None, 4, 4, 512)         262144    \n",
            "_________________________________________________________________\n",
            "conv_pw_11_bn (BatchNormaliz (None, 4, 4, 512)         2048      \n",
            "_________________________________________________________________\n",
            "conv_pw_11_relu (ReLU)       (None, 4, 4, 512)         0         \n",
            "_________________________________________________________________\n",
            "conv_pad_12 (ZeroPadding2D)  (None, 5, 5, 512)         0         \n",
            "_________________________________________________________________\n",
            "conv_dw_12 (DepthwiseConv2D) (None, 2, 2, 512)         4608      \n",
            "_________________________________________________________________\n",
            "conv_dw_12_bn (BatchNormaliz (None, 2, 2, 512)         2048      \n",
            "_________________________________________________________________\n",
            "conv_dw_12_relu (ReLU)       (None, 2, 2, 512)         0         \n",
            "_________________________________________________________________\n",
            "conv_pw_12 (Conv2D)          (None, 2, 2, 1024)        524288    \n",
            "_________________________________________________________________\n",
            "conv_pw_12_bn (BatchNormaliz (None, 2, 2, 1024)        4096      \n",
            "_________________________________________________________________\n",
            "conv_pw_12_relu (ReLU)       (None, 2, 2, 1024)        0         \n",
            "_________________________________________________________________\n",
            "conv_dw_13 (DepthwiseConv2D) (None, 2, 2, 1024)        9216      \n",
            "_________________________________________________________________\n",
            "conv_dw_13_bn (BatchNormaliz (None, 2, 2, 1024)        4096      \n",
            "_________________________________________________________________\n",
            "conv_dw_13_relu (ReLU)       (None, 2, 2, 1024)        0         \n",
            "_________________________________________________________________\n",
            "conv_pw_13 (Conv2D)          (None, 2, 2, 1024)        1048576   \n",
            "_________________________________________________________________\n",
            "conv_pw_13_bn (BatchNormaliz (None, 2, 2, 1024)        4096      \n",
            "_________________________________________________________________\n",
            "conv_pw_13_relu (ReLU)       (None, 2, 2, 1024)        0         \n",
            "=================================================================\n",
            "Total params: 3,228,864\n",
            "Trainable params: 3,206,976\n",
            "Non-trainable params: 21,888\n",
            "_________________________________________________________________\n"
          ],
          "name": "stdout"
        }
      ]
    },
    {
      "cell_type": "code",
      "metadata": {
        "id": "wdlt0MFiedmP",
        "colab_type": "code",
        "colab": {
          "base_uri": "https://localhost:8080/",
          "height": 289
        },
        "outputId": "a012d687-c0dc-40b2-ebd1-819ed0513395"
      },
      "source": [
        "# build a new model using MobileNet as a base and adding our dense layers to be trained\n",
        "model = models.Sequential()\n",
        "model.add(mnet)\n",
        "model.add(layers.Flatten())\n",
        "model.add(layers.Dense(256, activation='relu'))\n",
        "model.add(layers.Dense(1, activation='sigmoid'))\n",
        "\n",
        "# freeze parameters in the MobileNet base so that only parameters in the dense layers are learned when training\n",
        "mnet.trainable = False\n",
        "\n",
        "# compile the model\n",
        "model.compile(loss='binary_crossentropy',\n",
        "              optimizer='adam',\n",
        "              metrics=['accuracy'])\n",
        "\n",
        "# print out a summary of the compiled model\n",
        "model.summary()"
      ],
      "execution_count": 36,
      "outputs": [
        {
          "output_type": "stream",
          "text": [
            "Model: \"sequential_7\"\n",
            "_________________________________________________________________\n",
            "Layer (type)                 Output Shape              Param #   \n",
            "=================================================================\n",
            "mobilenet_1.00_224 (Model)   (None, 2, 2, 1024)        3228864   \n",
            "_________________________________________________________________\n",
            "flatten_7 (Flatten)          (None, 4096)              0         \n",
            "_________________________________________________________________\n",
            "dense_14 (Dense)             (None, 256)               1048832   \n",
            "_________________________________________________________________\n",
            "dense_15 (Dense)             (None, 1)                 257       \n",
            "=================================================================\n",
            "Total params: 4,277,953\n",
            "Trainable params: 1,049,089\n",
            "Non-trainable params: 3,228,864\n",
            "_________________________________________________________________\n"
          ],
          "name": "stdout"
        }
      ]
    },
    {
      "cell_type": "code",
      "metadata": {
        "id": "Ay2dsdk5fKQr",
        "colab_type": "code",
        "colab": {
          "base_uri": "https://localhost:8080/",
          "height": 527
        },
        "outputId": "6965b19c-ccef-464a-f3d7-913e658d495f"
      },
      "source": [
        "# train the model and record the results in history\n",
        "history = model.fit_generator(\n",
        "  train_generator,\n",
        "  epochs=10,\n",
        "  validation_data=validation_generator\n",
        "  )"
      ],
      "execution_count": 37,
      "outputs": [
        {
          "output_type": "stream",
          "text": [
            "Epoch 1/10\n",
            "46/47 [============================>.] - ETA: 0s - loss: 0.8522 - acc: 0.6587Epoch 1/10\n",
            "47/47 [==============================] - 37s 789ms/step - loss: 0.8457 - acc: 0.6617 - val_loss: 0.4389 - val_acc: 0.7990\n",
            "Epoch 2/10\n",
            "46/47 [============================>.] - ETA: 0s - loss: 0.4081 - acc: 0.8042Epoch 1/10\n",
            "47/47 [==============================] - 34s 723ms/step - loss: 0.4083 - acc: 0.8040 - val_loss: 0.4867 - val_acc: 0.7810\n",
            "Epoch 3/10\n",
            "46/47 [============================>.] - ETA: 0s - loss: 0.3293 - acc: 0.8491Epoch 1/10\n",
            "47/47 [==============================] - 34s 730ms/step - loss: 0.3286 - acc: 0.8493 - val_loss: 0.4091 - val_acc: 0.8090\n",
            "Epoch 4/10\n",
            "46/47 [============================>.] - ETA: 0s - loss: 0.2640 - acc: 0.8866Epoch 1/10\n",
            "47/47 [==============================] - 34s 723ms/step - loss: 0.2639 - acc: 0.8873 - val_loss: 0.4667 - val_acc: 0.7930\n",
            "Epoch 5/10\n",
            "46/47 [============================>.] - ETA: 0s - loss: 0.2084 - acc: 0.9210Epoch 1/10\n",
            "47/47 [==============================] - 34s 729ms/step - loss: 0.2086 - acc: 0.9207 - val_loss: 0.5277 - val_acc: 0.7690\n",
            "Epoch 6/10\n",
            "46/47 [============================>.] - ETA: 0s - loss: 0.1535 - acc: 0.9496Epoch 1/10\n",
            "47/47 [==============================] - 35s 735ms/step - loss: 0.1532 - acc: 0.9497 - val_loss: 0.5167 - val_acc: 0.7930\n",
            "Epoch 7/10\n",
            "46/47 [============================>.] - ETA: 0s - loss: 0.1127 - acc: 0.9595Epoch 1/10\n",
            "47/47 [==============================] - 34s 733ms/step - loss: 0.1125 - acc: 0.9600 - val_loss: 0.5656 - val_acc: 0.7950\n",
            "Epoch 8/10\n",
            "46/47 [============================>.] - ETA: 0s - loss: 0.0783 - acc: 0.9782Epoch 1/10\n",
            "47/47 [==============================] - 35s 736ms/step - loss: 0.0775 - acc: 0.9787 - val_loss: 0.7509 - val_acc: 0.7600\n",
            "Epoch 9/10\n",
            "46/47 [============================>.] - ETA: 0s - loss: 0.0660 - acc: 0.9819Epoch 1/10\n",
            "47/47 [==============================] - 35s 739ms/step - loss: 0.0666 - acc: 0.9820 - val_loss: 0.6241 - val_acc: 0.7910\n",
            "Epoch 10/10\n",
            "46/47 [============================>.] - ETA: 0s - loss: 0.0682 - acc: 0.9775Epoch 1/10\n",
            "47/47 [==============================] - 34s 730ms/step - loss: 0.0680 - acc: 0.9773 - val_loss: 0.5764 - val_acc: 0.7980\n"
          ],
          "name": "stdout"
        }
      ]
    },
    {
      "cell_type": "code",
      "metadata": {
        "id": "6yxoVpRslQ0k",
        "colab_type": "code",
        "colab": {
          "base_uri": "https://localhost:8080/",
          "height": 408
        },
        "outputId": "92961beb-8e48-4eec-a83e-5c78d4d1c8bb"
      },
      "source": [
        "# get accuracy metrics recorded during training process\n",
        "train_accuracy = history.history['acc']\n",
        "val_accuracy = history.history['val_acc']\n",
        "epochs = range(len(train_accuracy))\n",
        "\n",
        "# plot accuracy recorded on training and validation test set after each epoch\n",
        "plt.figure(figsize=(10,6))\n",
        "plt.plot(epochs, train_accuracy, 'g--', label='Training Accuracy')\n",
        "plt.plot(epochs, val_accuracy, 'r--', label='Validation Accuracy')\n",
        "plt.ylabel('Accuracy')\n",
        "plt.xlabel('Epochs')\n",
        "plt.title('Training and validation accuracy')\n",
        "plt.legend()\n",
        "plt.show()"
      ],
      "execution_count": 40,
      "outputs": [
        {
          "output_type": "display_data",
          "data": {
            "image/png": "[encoded data removed]",
            "text/plain": [
              "<Figure size 720x432 with 1 Axes>"
            ]
          },
          "metadata": {
            "tags": []
          }
        }
      ]
    },
    {
      "cell_type": "markdown",
      "metadata": {
        "id": "3BWoXDFJ-wte",
        "colab_type": "text"
      },
      "source": [
        "# Task 2: Handwritten Digit Classification"
      ]
    },
    {
      "cell_type": "code",
      "metadata": {
        "id": "Gd2cYB4L-V2j",
        "colab_type": "code",
        "colab": {
          "base_uri": "https://localhost:8080/",
          "height": 1000
        },
        "outputId": "6db53b1e-aa2a-486f-e0a1-1b8c650a30cd"
      },
      "source": [
        "X, y = mnist_data\n",
        "\n",
        "for i in range(10):\n",
        "    plt.imshow(X[i].reshape(28, 28),cmap='gray')\n",
        "    plt.title(f'Label = {np.argmax(y[i])}')\n",
        "    plt.show()"
      ],
      "execution_count": 20,
      "outputs": [
        {
          "output_type": "display_data",
          "data": {
            "image/png": "[encoded data removed]",
            "text/plain": [
              "<Figure size 432x288 with 1 Axes>"
            ]
          },
          "metadata": {
            "tags": []
          }
        },
        {
          "output_type": "display_data",
          "data": {
            "image/png": "[encoded data removed]",
            "text/plain": [
              "<Figure size 432x288 with 1 Axes>"
            ]
          },
          "metadata": {
            "tags": []
          }
        },
        {
          "output_type": "display_data",
          "data": {
            "image/png": "[encoded data removed]",
            "text/plain": [
              "<Figure size 432x288 with 1 Axes>"
            ]
          },
          "metadata": {
            "tags": []
          }
        },
        {
          "output_type": "display_data",
          "data": {
            "image/png": "[encoded data removed]",
            "text/plain": [
              "<Figure size 432x288 with 1 Axes>"
            ]
          },
          "metadata": {
            "tags": []
          }
        },
        {
          "output_type": "display_data",
          "data": {
            "image/png": "[encoded data removed]",
            "text/plain": [
              "<Figure size 432x288 with 1 Axes>"
            ]
          },
          "metadata": {
            "tags": []
          }
        },
        {
          "output_type": "display_data",
          "data": {
            "image/png": "[encoded data removed]",
            "text/plain": [
              "<Figure size 432x288 with 1 Axes>"
            ]
          },
          "metadata": {
            "tags": []
          }
        },
        {
          "output_type": "display_data",
          "data": {
            "image/png": "[encoded data removed]",
            "text/plain": [
              "<Figure size 432x288 with 1 Axes>"
            ]
          },
          "metadata": {
            "tags": []
          }
        },
        {
          "output_type": "display_data",
          "data": {
            "image/png": "[encoded data removed]",
            "text/plain": [
              "<Figure size 432x288 with 1 Axes>"
            ]
          },
          "metadata": {
            "tags": []
          }
        },
        {
          "output_type": "display_data",
          "data": {
            "image/png": "[encoded data removed]",
            "text/plain": [
              "<Figure size 432x288 with 1 Axes>"
            ]
          },
          "metadata": {
            "tags": []
          }
        },
        {
          "output_type": "display_data",
          "data": {
            "image/png": "[encoded data removed]",
            "text/plain": [
              "<Figure size 432x288 with 1 Axes>"
            ]
          },
          "metadata": {
            "tags": []
          }
        }
      ]
    },
    {
      "cell_type": "code",
      "metadata": {
        "id": "VoeQn0kKLacH",
        "colab_type": "code",
        "colab": {}
      },
      "source": [
        "# this defines the input size of the images we will be feeding into our model\n",
        "target_size = 28\n",
        "\n",
        "# 1. Create an instance of a sequential model\n",
        "\n",
        "# 2. Add blocks of convolutional layers (use input_shape=(target_size, target_size, 1) for first convolusitonal layer)\n",
        "\n",
        "# 3. Add dense layers for classification (layers.Dense(10, activation='softmax') for final layer)\n",
        "\n",
        "# 4. Compile the model (use loss='categorical_crossentropy' as multiclass problem)\n",
        "\n",
        "# train the model for 5 epochs using 20% of the data for validation\n",
        "history = model.fit(X, y, epochs = 5, validation_split = 0.2)\n",
        "\n",
        "# this will print the training results at the end\n",
        "train_accuracy = history.history['acc']\n",
        "val_accuracy = history.history['val_acc']\n",
        "epochs = range(len(train_accuracy))\n",
        "plt.figure(figsize=(10,6))\n",
        "plt.plot(epochs, train_accuracy, 'g--', label='Training Accuracy')\n",
        "plt.plot(epochs, val_accuracy, 'r--', label='Validation Accuracy')\n",
        "plt.ylabel('Accuracy')\n",
        "plt.xlabel('Epochs')\n",
        "plt.title('Training and validation accuracy')\n",
        "plt.legend()\n",
        "plt.show()"
      ],
      "execution_count": 0,
      "outputs": []
    }
  ]
}
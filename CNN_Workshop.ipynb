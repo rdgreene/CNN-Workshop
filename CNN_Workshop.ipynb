{
  "nbformat": 4,
  "nbformat_minor": 0,
  "metadata": {
    "colab": {
      "name": "CNN Workshop.ipynb",
      "provenance": [],
      "include_colab_link": true
    },
    "kernelspec": {
      "name": "python3",
      "display_name": "Python 3"
    }
  },
  "cells": [
    {
      "cell_type": "markdown",
      "metadata": {
        "id": "view-in-github",
        "colab_type": "text"
      },
      "source": [
        "<a href=\"https://colab.research.google.com/github/rdgreene/CNN-Workshop/blob/master/CNN_Workshop.ipynb\" target=\"_parent\"><img src=\"https://colab.research.google.com/assets/colab-badge.svg\" alt=\"Open In Colab\"/></a>"
      ]
    },
    {
      "cell_type": "code",
      "metadata": {
        "id": "aUEuzwM98H3w",
        "colab_type": "code",
        "colab": {}
      },
      "source": [
        "%%capture\n",
        "\n",
        "import warnings\n",
        "warnings.filterwarnings(\"ignore\")\n",
        "\n",
        "import os\n",
        "import numpy as np\n",
        "from skimage import io, transform\n",
        "\n",
        "!git clone https://ronangreene@bitbucket.org/ronangreene/cats_vs_dogs.git # clone repository with cats and dogs images\n",
        "!unzip cats_vs_dogs/data.zip # unzip data in clones repo\n",
        "!rm -r cats_vs_dogs # remove zipped data\n",
        "\n",
        "\n",
        "\n",
        "# # get names of all cats and dogs images\n",
        "# cats = os.listdir('data/cats')\n",
        "# dogs = os.listdir('data/dogs')"
      ],
      "execution_count": 0,
      "outputs": []
    },
    {
      "cell_type": "code",
      "metadata": {
        "id": "GUP7MFyfTVyH",
        "colab_type": "code",
        "colab": {}
      },
      "source": [
        "train_dir = 'data/train'\n",
        "val_dir = 'data/val'\n",
        "test_dir = 'data/test'"
      ],
      "execution_count": 0,
      "outputs": []
    },
    {
      "cell_type": "code",
      "metadata": {
        "id": "7wp9ArfWCxJs",
        "colab_type": "code",
        "colab": {
          "base_uri": "https://localhost:8080/",
          "height": 51
        },
        "outputId": "e6b6bb76-2a77-4998-afcd-fb712244e859"
      },
      "source": [
        "%tensorflow_version 2.x\n",
        "import tensorflow.keras as keras\n",
        "from tensorflow.keras.preprocessing.image import ImageDataGenerator\n",
        "from tensorflow.keras import layers\n",
        "from tensorflow.keras import models\n",
        "from tensorflow.keras import optimizers\n",
        "\n",
        "keras.__version__"
      ],
      "execution_count": 3,
      "outputs": [
        {
          "output_type": "stream",
          "text": [
            "TensorFlow 2.x selected.\n"
          ],
          "name": "stdout"
        },
        {
          "output_type": "execute_result",
          "data": {
            "text/plain": [
              "'2.2.4-tf'"
            ]
          },
          "metadata": {
            "tags": []
          },
          "execution_count": 3
        }
      ]
    },
    {
      "cell_type": "code",
      "metadata": {
        "id": "22sscLmIfgyR",
        "colab_type": "code",
        "colab": {}
      },
      "source": [
        "target_size = 128"
      ],
      "execution_count": 0,
      "outputs": []
    },
    {
      "cell_type": "code",
      "metadata": {
        "id": "B2_8zIwNUNY-",
        "colab_type": "code",
        "colab": {
          "base_uri": "https://localhost:8080/",
          "height": 51
        },
        "outputId": "e0a29574-fce2-4c96-b3d7-d4ecd00240a6"
      },
      "source": [
        "# All images will be rescaled by 1./255\n",
        "train_datagen = ImageDataGenerator(rescale=1./255)\n",
        "test_datagen = ImageDataGenerator(rescale=1./255)\n",
        "\n",
        "train_generator = train_datagen.flow_from_directory(\n",
        "    train_dir,\n",
        "    target_size=(target_size, target_size),\n",
        "    batch_size=32,\n",
        "    class_mode='binary'\n",
        "    )\n",
        "\n",
        "validation_generator = test_datagen.flow_from_directory(\n",
        "    val_dir,\n",
        "    target_size=(target_size, target_size),\n",
        "    batch_size=32,\n",
        "    class_mode='binary'\n",
        "    )"
      ],
      "execution_count": 72,
      "outputs": [
        {
          "output_type": "stream",
          "text": [
            "Found 1600 images belonging to 2 classes.\n",
            "Found 200 images belonging to 2 classes.\n"
          ],
          "name": "stdout"
        }
      ]
    },
    {
      "cell_type": "code",
      "metadata": {
        "id": "uwVfrFuJUMWq",
        "colab_type": "code",
        "colab": {
          "base_uri": "https://localhost:8080/",
          "height": 527
        },
        "outputId": "18d38f98-c2e2-4535-cbba-78d493140541"
      },
      "source": [
        "model = models.Sequential()\n",
        "model.add(layers.Conv2D(32, (3, 3), activation='relu',\n",
        "                        input_shape=(target_size, target_size, 3)))\n",
        "model.add(layers.MaxPooling2D((2, 2)))\n",
        "model.add(layers.Conv2D(64, (3, 3), activation='relu'))\n",
        "model.add(layers.MaxPooling2D((2, 2)))\n",
        "model.add(layers.Conv2D(128, (3, 3), activation='relu'))\n",
        "model.add(layers.MaxPooling2D((2, 2)))\n",
        "model.add(layers.Conv2D(128, (3, 3), activation='relu'))\n",
        "model.add(layers.MaxPooling2D((2, 2)))\n",
        "model.add(layers.Flatten())\n",
        "model.add(layers.Dense(512, activation='relu'))\n",
        "model.add(layers.Dense(1, activation='sigmoid'))\n",
        "\n",
        "model.compile(\n",
        "    loss='binary_crossentropy',\n",
        "    optimizer='adam',\n",
        "    metrics=['acc']\n",
        "    )\n",
        "\n",
        "model.summary()"
      ],
      "execution_count": 71,
      "outputs": [
        {
          "output_type": "stream",
          "text": [
            "Model: \"sequential_19\"\n",
            "_________________________________________________________________\n",
            "Layer (type)                 Output Shape              Param #   \n",
            "=================================================================\n",
            "conv2d_63 (Conv2D)           (None, 126, 126, 32)      896       \n",
            "_________________________________________________________________\n",
            "max_pooling2d_63 (MaxPooling (None, 63, 63, 32)        0         \n",
            "_________________________________________________________________\n",
            "conv2d_64 (Conv2D)           (None, 61, 61, 64)        18496     \n",
            "_________________________________________________________________\n",
            "max_pooling2d_64 (MaxPooling (None, 30, 30, 64)        0         \n",
            "_________________________________________________________________\n",
            "conv2d_65 (Conv2D)           (None, 28, 28, 128)       73856     \n",
            "_________________________________________________________________\n",
            "max_pooling2d_65 (MaxPooling (None, 14, 14, 128)       0         \n",
            "_________________________________________________________________\n",
            "conv2d_66 (Conv2D)           (None, 12, 12, 128)       147584    \n",
            "_________________________________________________________________\n",
            "max_pooling2d_66 (MaxPooling (None, 6, 6, 128)         0         \n",
            "_________________________________________________________________\n",
            "flatten_19 (Flatten)         (None, 4608)              0         \n",
            "_________________________________________________________________\n",
            "dense_38 (Dense)             (None, 512)               2359808   \n",
            "_________________________________________________________________\n",
            "dense_39 (Dense)             (None, 1)                 513       \n",
            "=================================================================\n",
            "Total params: 2,601,153\n",
            "Trainable params: 2,601,153\n",
            "Non-trainable params: 0\n",
            "_________________________________________________________________\n"
          ],
          "name": "stdout"
        }
      ]
    },
    {
      "cell_type": "code",
      "metadata": {
        "id": "iJ_SlroPlTQp",
        "colab_type": "code",
        "colab": {}
      },
      "source": [
        "import time"
      ],
      "execution_count": 0,
      "outputs": []
    },
    {
      "cell_type": "code",
      "metadata": {
        "id": "0O_qGSVTUFr0",
        "colab_type": "code",
        "colab": {
          "base_uri": "https://localhost:8080/",
          "height": 255
        },
        "outputId": "5c94cc01-2065-4069-de59-390dca75d587"
      },
      "source": [
        "tic = time.time()\n",
        "\n",
        "history = model.fit_generator(\n",
        "      train_generator,\n",
        "      steps_per_epoch=10,\n",
        "      epochs=20,\n",
        "      validation_data=validation_generator,\n",
        "      validation_steps=10)\n",
        "\n",
        "toc = time.time()\n",
        "print((toc-tic)/60)"
      ],
      "execution_count": 0,
      "outputs": [
        {
          "output_type": "stream",
          "text": [
            "Epoch 1/20\n",
            "10/10 [==============================] - 19s 2s/step - loss: 0.7292 - acc: 0.4594 - val_loss: 0.6978 - val_acc: 0.4966\n",
            "Epoch 2/20\n",
            "10/10 [==============================] - 18s 2s/step - loss: 0.6949 - acc: 0.5594 - val_loss: 0.6936 - val_acc: 0.4966\n",
            "Epoch 3/20\n",
            "10/10 [==============================] - 17s 2s/step - loss: 0.6956 - acc: 0.5125 - val_loss: 0.6914 - val_acc: 0.5000\n",
            "Epoch 4/20\n",
            "10/10 [==============================] - 18s 2s/step - loss: 0.6931 - acc: 0.5125 - val_loss: 0.6927 - val_acc: 0.5203\n",
            "Epoch 5/20\n",
            "10/10 [==============================] - 18s 2s/step - loss: 0.6970 - acc: 0.5281 - val_loss: 0.6937 - val_acc: 0.4831\n",
            "Epoch 6/20\n",
            "10/10 [==============================] - 18s 2s/step - loss: 0.6932 - acc: 0.5250 - val_loss: 0.6931 - val_acc: 0.5068\n",
            "Epoch 7/20\n",
            " 2/10 [=====>........................] - ETA: 10s - loss: 0.6939 - acc: 0.4531"
          ],
          "name": "stdout"
        }
      ]
    },
    {
      "cell_type": "code",
      "metadata": {
        "id": "KGdSFEuFkDEg",
        "colab_type": "code",
        "colab": {
          "base_uri": "https://localhost:8080/",
          "height": 545
        },
        "outputId": "c4492082-96ce-4e61-d457-2248aeaa6202"
      },
      "source": [
        "\n",
        "import matplotlib.pyplot as plt\n",
        "\n",
        "acc = history.history['acc']\n",
        "val_acc = history.history['val_acc']\n",
        "loss = history.history['loss']\n",
        "val_loss = history.history['val_loss']\n",
        "\n",
        "epochs = range(len(acc))\n",
        "\n",
        "plt.plot(epochs, acc, 'g', label='Training acc')\n",
        "plt.plot(epochs, val_acc, 'g--', label='Validation acc')\n",
        "plt.title('Training and validation accuracy')\n",
        "plt.legend()\n",
        "\n",
        "plt.figure()\n",
        "\n",
        "plt.plot(epochs, loss, 'r', label='Training loss')\n",
        "plt.plot(epochs, val_loss, 'r--', label='Validation loss')\n",
        "plt.title('Training and validation loss')\n",
        "plt.legend()\n",
        "\n",
        "plt.show()"
      ],
      "execution_count": 60,
      "outputs": [
        {
          "output_type": "display_data",
          "data": {
            "image/png": "[encoded data removed]",
            "text/plain": [
              "<Figure size 432x288 with 1 Axes>"
            ]
          },
          "metadata": {
            "tags": []
          }
        },
        {
          "output_type": "display_data",
          "data": {
            "image/png": "[encoded data removed]",
            "text/plain": [
              "<Figure size 432x288 with 1 Axes>"
            ]
          },
          "metadata": {
            "tags": []
          }
        }
      ]
    },
    {
      "cell_type": "code",
      "metadata": {
        "id": "SGeurFdQpx91",
        "colab_type": "code",
        "colab": {}
      },
      "source": [
        "# adding droput and image augmentation\n",
        "\n",
        "model = models.Sequential()\n",
        "model.add(layers.Conv2D(32, (3, 3), activation='relu',\n",
        "                        input_shape=(target_size, target_size, 3)))\n",
        "model.add(layers.MaxPooling2D((2, 2)))\n",
        "model.add(layers.Conv2D(32, (3, 3), activation='relu'))\n",
        "model.add(layers.MaxPooling2D((2, 2)))\n",
        "model.add(layers.Conv2D(64, (3, 3), activation='relu'))\n",
        "model.add(layers.MaxPooling2D((2, 2)))\n",
        "model.add(layers.Flatten())\n",
        "model.add(layers.Dense(128, activation='relu'))\n",
        "model.add(layers.Dense(1, activation='sigmoid'))\n",
        "\n",
        "model.compile(\n",
        "    loss='binary_crossentropy',\n",
        "    optimizer=optimizers.RMSprop(lr=1e-4),\n",
        "    metrics=['acc']\n",
        "    )\n",
        "\n",
        "model.summary()"
      ],
      "execution_count": 0,
      "outputs": []
    },
    {
      "cell_type": "markdown",
      "metadata": {
        "id": "4qerwQQ6ROzj",
        "colab_type": "text"
      },
      "source": [
        "### DEV AREA"
      ]
    },
    {
      "cell_type": "code",
      "metadata": {
        "id": "ohlO0FE0E6kA",
        "colab_type": "code",
        "colab": {
          "base_uri": "https://localhost:8080/",
          "height": 34
        },
        "outputId": "2f6cce93-2f18-4dfb-d1db-af296919e6db"
      },
      "source": [
        "import time\n",
        "time.time()"
      ],
      "execution_count": 39,
      "outputs": [
        {
          "output_type": "execute_result",
          "data": {
            "text/plain": [
              "1572782293.2272391"
            ]
          },
          "metadata": {
            "tags": []
          },
          "execution_count": 39
        }
      ]
    },
    {
      "cell_type": "code",
      "metadata": {
        "id": "7ds6PM_iQcPo",
        "colab_type": "code",
        "colab": {
          "base_uri": "https://localhost:8080/",
          "height": 34
        },
        "outputId": "f4f6671a-8aa1-44ae-c816-0f8a361553aa"
      },
      "source": [
        "\n",
        "ls"
      ],
      "execution_count": 11,
      "outputs": [
        {
          "output_type": "stream",
          "text": [
            "cats_test  cats_train  cats_val  dogs_test  dogs_train\tdogs_val\n"
          ],
          "name": "stdout"
        }
      ]
    },
    {
      "cell_type": "code",
      "metadata": {
        "id": "B91Jm9nXEus2",
        "colab_type": "code",
        "colab": {}
      },
      "source": [
        "from skimage import io, transform\n",
        "import numpy as np\n",
        "import time\n",
        "\n",
        "tic = time.time()\n",
        "\n",
        "data = []\n",
        "test_data = []\n",
        "\n",
        "# get train and test data for cats\n",
        "# for i, file in enumerate(cats):\n",
        "#     try:\n",
        "#         myimage = io.imread('data/cats/' + file).astype(np.float32)/255\n",
        "#         myimage = transform.resize(myimage, (64, 64, 3))\n",
        "#         if i < 950:\n",
        "#           data.append((myimage, 1))\n",
        "#         else:\n",
        "#           test_data.append((myimage, 1))\n",
        "#     except:\n",
        "#         pass\n",
        "\n",
        "# get train and test data for dogs\n",
        "for i, file in enumerate(dogs):\n",
        "    try:\n",
        "        myimage = io.imread('data/dogs/' + file).astype(np.float32)/255\n",
        "        myimage = transform.resize(myimage, (64, 64, 3))\n",
        "        if i < 950:\n",
        "          data.append((myimage, 1))\n",
        "        else:\n",
        "          test_data.append((myimage, 1))\n",
        "    except:\n",
        "        pass\n",
        "\n",
        "print(time.time() - tic)\n",
        "\n"
      ],
      "execution_count": 0,
      "outputs": []
    },
    {
      "cell_type": "code",
      "metadata": {
        "id": "yq8gYkHEDpPf",
        "colab_type": "code",
        "colab": {}
      },
      "source": [
        "# build neural network\n",
        "\n",
        "from tensorflow.keras import layers\n",
        "from tensorflow.keras import models\n",
        "\n",
        "model = models.Sequential()\n",
        "model.add(layers.Conv2D(32, (3, 3), activation='relu', input_shape=(28, 28, 1)))\n",
        "model.add(layers.MaxPooling2D((2, 2)))\n",
        "model.add(layers.Conv2D(64, (3, 3), activation='relu'))\n",
        "model.add(layers.MaxPooling2D((2, 2)))\n",
        "model.add(layers.Conv2D(64, (3, 3), activation='relu'))"
      ],
      "execution_count": 0,
      "outputs": []
    }
  ]
}
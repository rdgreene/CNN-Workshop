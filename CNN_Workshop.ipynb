{
  "nbformat": 4,
  "nbformat_minor": 0,
  "metadata": {
    "colab": {
      "name": "CNN Workshop.ipynb",
      "provenance": [],
      "include_colab_link": true
    },
    "kernelspec": {
      "name": "python3",
      "display_name": "Python 3"
    }
  },
  "cells": [
    {
      "cell_type": "markdown",
      "metadata": {
        "id": "view-in-github",
        "colab_type": "text"
      },
      "source": [
        "<a href=\"https://colab.research.google.com/github/rdgreene/CNN-Workshop/blob/master/CNN_Workshop.ipynb\" target=\"_parent\"><img src=\"https://colab.research.google.com/assets/colab-badge.svg\" alt=\"Open In Colab\"/></a>"
      ]
    },
    {
      "cell_type": "code",
      "metadata": {
        "id": "aUEuzwM98H3w",
        "colab_type": "code",
        "colab": {}
      },
      "source": [
        "%%capture\n",
        "\n",
        "import os\n",
        "import numpy as np\n",
        "from skimage import io, transform\n",
        "\n",
        "!git clone https://ronangreene@bitbucket.org/ronangreene/cats_vs_dogs.git # clone repository with cats and dogs images\n",
        "!unzip cats_vs_dogs/data.zip # unzip data in clones repo\n",
        "!rm -r cats_vs_dogs # remove zipped data\n",
        "\n",
        "\n",
        "\n",
        "# # get names of all cats and dogs images\n",
        "# cats = os.listdir('data/cats')\n",
        "# dogs = os.listdir('data/dogs')"
      ],
      "execution_count": 0,
      "outputs": []
    },
    {
      "cell_type": "code",
      "metadata": {
        "id": "GUP7MFyfTVyH",
        "colab_type": "code",
        "colab": {}
      },
      "source": [
        "train_dir = 'data/train'\n",
        "val_dir = 'data/val'\n",
        "test_dir = 'data/test'"
      ],
      "execution_count": 0,
      "outputs": []
    },
    {
      "cell_type": "code",
      "metadata": {
        "id": "VXkJaYQETLxk",
        "colab_type": "code",
        "colab": {
          "base_uri": "https://localhost:8080/",
          "height": 34
        },
        "outputId": "8bf56555-d6a2-4d69-eab2-fa95e8088c31"
      },
      "source": [
        "!ls data/train"
      ],
      "execution_count": 11,
      "outputs": [
        {
          "output_type": "stream",
          "text": [
            "cats  dogs\n"
          ],
          "name": "stdout"
        }
      ]
    },
    {
      "cell_type": "code",
      "metadata": {
        "id": "7wp9ArfWCxJs",
        "colab_type": "code",
        "colab": {
          "base_uri": "https://localhost:8080/",
          "height": 51
        },
        "outputId": "c58147f9-76bb-4140-fde3-5fe002cf0e3c"
      },
      "source": [
        "%tensorflow_version 2.x\n",
        "import tensorflow.keras as keras\n",
        "from tensorflow.keras.preprocessing.image import ImageDataGenerator\n",
        "\n",
        "keras.__version__\n",
        "\n",
        "# All images will be rescaled by 1./255\n",
        "train_datagen = ImageDataGenerator(rescale=1./255)\n",
        "test_datagen = ImageDataGenerator(rescale=1./255)\n",
        "\n",
        "train_generator = train_datagen.flow_from_directory(\n",
        "    train_dir,\n",
        "    target_size=(150, 150),\n",
        "    batch_size=20,\n",
        "    class_mode='binary'\n",
        "    )\n",
        "\n",
        "validation_generator = test_datagen.flow_from_directory(\n",
        "    val_dir,\n",
        "    target_size=(150, 150),\n",
        "    batch_size=20,\n",
        "    class_mode='binary'\n",
        "    )"
      ],
      "execution_count": 13,
      "outputs": [
        {
          "output_type": "stream",
          "text": [
            "Found 1600 images belonging to 2 classes.\n",
            "Found 200 images belonging to 2 classes.\n"
          ],
          "name": "stdout"
        }
      ]
    },
    {
      "cell_type": "markdown",
      "metadata": {
        "id": "4qerwQQ6ROzj",
        "colab_type": "text"
      },
      "source": [
        "### DEV AREA"
      ]
    },
    {
      "cell_type": "code",
      "metadata": {
        "id": "ohlO0FE0E6kA",
        "colab_type": "code",
        "colab": {
          "base_uri": "https://localhost:8080/",
          "height": 34
        },
        "outputId": "2f6cce93-2f18-4dfb-d1db-af296919e6db"
      },
      "source": [
        "import time\n",
        "time.time()"
      ],
      "execution_count": 39,
      "outputs": [
        {
          "output_type": "execute_result",
          "data": {
            "text/plain": [
              "1572782293.2272391"
            ]
          },
          "metadata": {
            "tags": []
          },
          "execution_count": 39
        }
      ]
    },
    {
      "cell_type": "code",
      "metadata": {
        "id": "7ds6PM_iQcPo",
        "colab_type": "code",
        "colab": {
          "base_uri": "https://localhost:8080/",
          "height": 34
        },
        "outputId": "f4f6671a-8aa1-44ae-c816-0f8a361553aa"
      },
      "source": [
        "\n",
        "ls"
      ],
      "execution_count": 11,
      "outputs": [
        {
          "output_type": "stream",
          "text": [
            "cats_test  cats_train  cats_val  dogs_test  dogs_train\tdogs_val\n"
          ],
          "name": "stdout"
        }
      ]
    },
    {
      "cell_type": "code",
      "metadata": {
        "id": "B91Jm9nXEus2",
        "colab_type": "code",
        "colab": {}
      },
      "source": [
        "from skimage import io, transform\n",
        "import numpy as np\n",
        "import time\n",
        "\n",
        "tic = time.time()\n",
        "\n",
        "data = []\n",
        "test_data = []\n",
        "\n",
        "# get train and test data for cats\n",
        "# for i, file in enumerate(cats):\n",
        "#     try:\n",
        "#         myimage = io.imread('data/cats/' + file).astype(np.float32)/255\n",
        "#         myimage = transform.resize(myimage, (64, 64, 3))\n",
        "#         if i < 950:\n",
        "#           data.append((myimage, 1))\n",
        "#         else:\n",
        "#           test_data.append((myimage, 1))\n",
        "#     except:\n",
        "#         pass\n",
        "\n",
        "# get train and test data for dogs\n",
        "for i, file in enumerate(dogs):\n",
        "    try:\n",
        "        myimage = io.imread('data/dogs/' + file).astype(np.float32)/255\n",
        "        myimage = transform.resize(myimage, (64, 64, 3))\n",
        "        if i < 950:\n",
        "          data.append((myimage, 1))\n",
        "        else:\n",
        "          test_data.append((myimage, 1))\n",
        "    except:\n",
        "        pass\n",
        "\n",
        "print(time.time() - tic)\n",
        "\n"
      ],
      "execution_count": 0,
      "outputs": []
    },
    {
      "cell_type": "code",
      "metadata": {
        "id": "yq8gYkHEDpPf",
        "colab_type": "code",
        "colab": {}
      },
      "source": [
        "# build neural network\n",
        "\n",
        "from tensorflow.keras import layers\n",
        "from tensorflow.keras import models\n",
        "\n",
        "model = models.Sequential()\n",
        "model.add(layers.Conv2D(32, (3, 3), activation='relu', input_shape=(28, 28, 1)))\n",
        "model.add(layers.MaxPooling2D((2, 2)))\n",
        "model.add(layers.Conv2D(64, (3, 3), activation='relu'))\n",
        "model.add(layers.MaxPooling2D((2, 2)))\n",
        "model.add(layers.Conv2D(64, (3, 3), activation='relu'))"
      ],
      "execution_count": 0,
      "outputs": []
    }
  ]
}